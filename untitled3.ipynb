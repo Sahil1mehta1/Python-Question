{
 "cells": [
  {
   "cell_type": "code",
   "execution_count": 13,
   "id": "329ffa8b-8fd8-474d-8234-8a2c864c631f",
   "metadata": {},
   "outputs": [
    {
     "name": "stdout",
     "output_type": "stream",
     "text": [
      "0\n",
      "\n",
      "1\n",
      "\n",
      "\n",
      "3\n",
      "\n",
      "\n",
      "5\n",
      "\n",
      "\n",
      "7\n",
      "\n",
      "\n",
      "9\n",
      "\n",
      "\n",
      "11\n",
      "\n",
      "\n",
      "13\n",
      "\n",
      "\n",
      "15\n",
      "\n",
      "\n",
      "17\n",
      "\n",
      "\n",
      "19\n",
      "\n",
      "\n",
      "21\n",
      "\n",
      "\n",
      "23\n",
      "\n",
      "\n",
      "25\n",
      "\n",
      "\n",
      "27\n",
      "\n",
      "\n",
      "29\n",
      "\n",
      "\n",
      "31\n",
      "\n",
      "\n",
      "33\n",
      "\n",
      "\n",
      "35\n",
      "\n",
      "\n",
      "37\n",
      "\n",
      "\n",
      "39\n",
      "\n",
      "\n",
      "41\n",
      "\n",
      "\n",
      "43\n",
      "\n",
      "\n",
      "45\n",
      "\n",
      "\n",
      "47\n",
      "\n",
      "\n",
      "49\n",
      "\n",
      "\n"
     ]
    }
   ],
   "source": [
    "print (0)\n",
    "for i in range (0,51):\n",
    "    if i%2==1:\n",
    "        print(i)\n",
    "    print()"
   ]
  },
  {
   "cell_type": "code",
   "execution_count": 52,
   "id": "95d6ba89-41da-4d56-a160-f18e87479871",
   "metadata": {},
   "outputs": [
    {
     "name": "stdin",
     "output_type": "stream",
     "text": [
      "enter first number 23\n",
      "enter second number 54\n",
      "enter third number 3\n"
     ]
    },
    {
     "name": "stdout",
     "output_type": "stream",
     "text": [
      "the medianis: 23.0\n"
     ]
    }
   ],
   "source": [
    "num1=float(input(\"enter first number\"))\n",
    "num2=float(input(\"enter second number\"))\n",
    "num3=float(input(\"enter third number\"))\n",
    "if (num1>=num2 and num1<=num3) or (num1 <=num2 and num1>=num3):\n",
    "    median=num1\n",
    "elif(num2>=num1 and num2<=num3) or (num2<=num1 and num2>= num3):\n",
    "    median=num2\n",
    "else:\n",
    "    median=num3\n",
    "print(\"the medianis:\",median)"
   ]
  },
  {
   "cell_type": "code",
   "execution_count": 60,
   "id": "56d944ab-cd07-45e2-9f7d-7a0b18cb8fcf",
   "metadata": {},
   "outputs": [
    {
     "name": "stdin",
     "output_type": "stream",
     "text": [
      "enter a number 8\n",
      "enter a number 5\n",
      "enter a number 9\n"
     ]
    },
    {
     "name": "stdout",
     "output_type": "stream",
     "text": [
      "9\n"
     ]
    }
   ],
   "source": [
    "x=int(input(\"enter a number\"))\n",
    "y=int(input(\"enter a number\"))\n",
    "z=int(input(\"enter a number\"))\n",
    "if x>y and x>z:\n",
    "    print(x)\n",
    "elif y>x and y>z:\n",
    "    print(y)\n",
    "else:\n",
    "    print(z)"
   ]
  },
  {
   "cell_type": "code",
   "execution_count": 15,
   "id": "a23c3773-7749-436a-a4f6-e003eb0d2ccd",
   "metadata": {},
   "outputs": [
    {
     "name": "stdin",
     "output_type": "stream",
     "text": [
      "enter a number 5\n",
      "enter a number 6\n",
      "enter a number 8\n"
     ]
    },
    {
     "name": "stdout",
     "output_type": "stream",
     "text": [
      "6\n"
     ]
    }
   ],
   "source": [
    "x=int(input(\"enter a number\"))\n",
    "y=int(input(\"enter a number\"))\n",
    "z=int(input(\"enter a number\"))\n",
    "if (x>y and x>z) or (y>z and y>x):\n",
    "    print(z)\n",
    "elif (y>x and y>z) or (z>y and x>y):\n",
    "    print(x)\n",
    "else:\n",
    "    print(y)\n",
    "\n",
    "  \n",
    "\n",
    "   \n"
   ]
  },
  {
   "cell_type": "code",
   "execution_count": 70,
   "id": "b3e6e0b8-ecb3-4f98-a5e6-fec70816e68d",
   "metadata": {},
   "outputs": [
    {
     "name": "stdin",
     "output_type": "stream",
     "text": [
      "enter a number 7\n",
      "enter a number 6\n",
      "enter a number 8\n",
      "enter a number 9\n"
     ]
    },
    {
     "name": "stdout",
     "output_type": "stream",
     "text": [
      "6\n"
     ]
    }
   ],
   "source": [
    "w=int(input(\"enter a number\"))\n",
    "x=int(input(\"enter a number\"))\n",
    "y=int(input(\"enter a number\"))\n",
    "z=int(input(\"enter a number\"))\n",
    "if w<x and w<y and w<z:\n",
    "    print(w)\n",
    "elif x<w and x<y and x<z:\n",
    "    print(x)\n",
    "elif y<w and y<x and y<z:\n",
    "    print(y)\n",
    "else:\n",
    "    print(z)"
   ]
  },
  {
   "cell_type": "code",
   "execution_count": 74,
   "id": "c0e9b36d-6397-44bb-82de-6bc692cb8cb1",
   "metadata": {},
   "outputs": [
    {
     "name": "stdin",
     "output_type": "stream",
     "text": [
      "enter a number -5\n"
     ]
    },
    {
     "name": "stdout",
     "output_type": "stream",
     "text": [
      "negative\n"
     ]
    }
   ],
   "source": [
    "x=int(input(\"enter a number\"))\n",
    "if x>0:\n",
    "    print(\"positive\")\n",
    "else:\n",
    "    print(\"negative\")"
   ]
  },
  {
   "cell_type": "code",
   "execution_count": 82,
   "id": "54ec911d-1385-4f66-88d9-f61f862bc92c",
   "metadata": {},
   "outputs": [
    {
     "name": "stdin",
     "output_type": "stream",
     "text": [
      "enter a number 2100\n"
     ]
    },
    {
     "name": "stdout",
     "output_type": "stream",
     "text": [
      "it is not a leap year\n"
     ]
    }
   ],
   "source": [
    "x=int(input(\"enter a number\"))\n",
    "if x%4==0:\n",
    "    if x%100==0:\n",
    "        if x%400==0:\n",
    "            print(\"its a leap year\")\n",
    "        else:\n",
    "            print(\"it is not a leap year\")\n",
    "    else:\n",
    "        print(\"it is not a leap year\")\n",
    "else:\n",
    "    print(\"not a leap year\")"
   ]
  },
  {
   "cell_type": "code",
   "execution_count": 134,
   "id": "a06fbed9-f442-4a14-aa1f-bf06a2b0da43",
   "metadata": {},
   "outputs": [
    {
     "name": "stdin",
     "output_type": "stream",
     "text": [
      "enter a number 24\n"
     ]
    },
    {
     "name": "stdout",
     "output_type": "stream",
     "text": [
      "no\n"
     ]
    }
   ],
   "source": [
    "import math\n",
    "x=int(input(\"enter a number\"))\n",
    "m=math.sqrt(x)\n",
    "if m.is_integer():\n",
    "    print(\"yes\")\n",
    "else:\n",
    "    print(\"no\")\n"
   ]
  },
  {
   "cell_type": "code",
   "execution_count": 174,
   "id": "042e675a-f8ca-4a15-a08d-e94cca89cc47",
   "metadata": {},
   "outputs": [
    {
     "name": "stdin",
     "output_type": "stream",
     "text": [
      "enter a string a\n"
     ]
    },
    {
     "name": "stdout",
     "output_type": "stream",
     "text": [
      "consonant\n"
     ]
    }
   ],
   "source": [
    "y=input(\"enter a string\")\n",
    "string=(\"aeiouAEIOU\")\n",
    "if string in y:\n",
    "    print(\"vowel\")\n",
    "else:\n",
    "    print(\"consonant\")"
   ]
  },
  {
   "cell_type": "code",
   "execution_count": 22,
   "id": "96da0f05-6817-4bfc-a632-46c4390a8996",
   "metadata": {},
   "outputs": [
    {
     "name": "stdin",
     "output_type": "stream",
     "text": [
      "enter a number 0\n",
      "enter a number 5\n"
     ]
    },
    {
     "name": "stdout",
     "output_type": "stream",
     "text": [
      "lies at positive y axis\n"
     ]
    }
   ],
   "source": [
    "x=int(input(\"enter a number\"))\n",
    "y=int(input(\"enter a number\"))\n",
    "if (x>0 and y>0):\n",
    "    print(\"first quadrant\")\n",
    "elif (x<0 and y>0):\n",
    "    print(\"second quadrant\")\n",
    "elif (x<0 and y<0):\n",
    "    print(\"third quadrant\")\n",
    "elif(x>0 and y<0):\n",
    "    print(\"fourth quadrant\")\n",
    "elif(x==0 and y>0):\n",
    "    print(\"lies at positive y axis\")\n",
    "elif(x==0 and y<0):\n",
    "    print(\"lies at negative y axis\")\n",
    "elif(y==0 and x>0):\n",
    "    print(\"lies at positive x axis\")\n",
    "elif(y==0 and x<0):\n",
    "    print(\"lies at negative x axis\")\n",
    "else:\n",
    "    print(\"origin\")"
   ]
  },
  {
   "cell_type": "code",
   "execution_count": null,
   "id": "e2bb2619-bd33-42f9-811b-adaf04c030f3",
   "metadata": {},
   "outputs": [],
   "source": []
  },
  {
   "cell_type": "code",
   "execution_count": null,
   "id": "19ada712-7a43-48e9-8a37-49f75606cd6b",
   "metadata": {},
   "outputs": [],
   "source": []
  }
 ],
 "metadata": {
  "kernelspec": {
   "display_name": "Python 3 (ipykernel)",
   "language": "python",
   "name": "python3"
  },
  "language_info": {
   "codemirror_mode": {
    "name": "ipython",
    "version": 3
   },
   "file_extension": ".py",
   "mimetype": "text/x-python",
   "name": "python",
   "nbconvert_exporter": "python",
   "pygments_lexer": "ipython3",
   "version": "3.12.4"
  }
 },
 "nbformat": 4,
 "nbformat_minor": 5
}
