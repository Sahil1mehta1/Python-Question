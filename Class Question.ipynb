{
 "cells": [
  {
   "cell_type": "code",
   "execution_count": 1,
   "id": "6bfe020a-3610-4c91-ae81-0d8d3bb36f00",
   "metadata": {},
   "outputs": [
    {
     "name": "stdout",
     "output_type": "stream",
     "text": [
      "The number of digits is 7\n",
      "The number of string is 10\n"
     ]
    }
   ],
   "source": [
    "a=\"mahendran-6066681\"\n",
    "string=0\n",
    "digit=0\n",
    "for i in a:\n",
    "    if i.isnumeric():\n",
    "        digit+=1\n",
    "    else:\n",
    "        string+=1\n",
    "print(f\"The number of digits is {digit}\")\n",
    "print(f\"The number of string is {string}\")"
   ]
  },
  {
   "cell_type": "code",
   "execution_count": 2,
   "id": "907ee53c-2552-48b2-b1db-867d8130cb6d",
   "metadata": {},
   "outputs": [
    {
     "name": "stdin",
     "output_type": "stream",
     "text": [
      "Enter No:- 4\n"
     ]
    },
    {
     "name": "stdout",
     "output_type": "stream",
     "text": [
      "24\n"
     ]
    }
   ],
   "source": [
    "fact=1\n",
    "a=int(input(\"Enter No:-\"))\n",
    "for i in range(1,a+1):\n",
    "    fact*=i\n",
    "print(fact)"
   ]
  },
  {
   "cell_type": "code",
   "execution_count": 5,
   "id": "37a19627-0746-447f-8c4f-cd77820898b2",
   "metadata": {},
   "outputs": [
    {
     "name": "stdout",
     "output_type": "stream",
     "text": [
      "50 47 44 41 38 35 32 "
     ]
    }
   ],
   "source": [
    "for index in range(50, 30, -3) : \n",
    "      print(index, end = \" \") "
   ]
  },
  {
   "cell_type": "code",
   "execution_count": 6,
   "id": "89281847-057e-45f8-9e65-2d88f74c70a5",
   "metadata": {},
   "outputs": [
    {
     "name": "stdout",
     "output_type": "stream",
     "text": [
      "0\n",
      "1\n",
      "3\n",
      "5\n",
      "7\n",
      "9\n",
      "11\n",
      "13\n",
      "15\n",
      "17\n",
      "19\n",
      "21\n",
      "23\n",
      "25\n",
      "27\n",
      "29\n",
      "31\n",
      "33\n",
      "35\n",
      "37\n",
      "39\n",
      "41\n",
      "43\n",
      "45\n",
      "47\n",
      "49\n"
     ]
    }
   ],
   "source": [
    "print(0)\n",
    "for i in range(1,50,2):\n",
    "    print(i)"
   ]
  },
  {
   "cell_type": "code",
   "execution_count": 8,
   "id": "efea3416-ce6a-4272-9070-b27296c585b5",
   "metadata": {},
   "outputs": [
    {
     "name": "stdin",
     "output_type": "stream",
     "text": [
      "No.1: 23\n",
      "No.2: 45\n",
      "No.3: 34\n"
     ]
    },
    {
     "name": "stdout",
     "output_type": "stream",
     "text": [
      "34.0 is the median\n"
     ]
    }
   ],
   "source": [
    "a=float(input(\"No.1:\"))\n",
    "b=float(input(\"No.2:\"))\n",
    "c=float(input(\"No.3:\"))\n",
    "if (a>=b and a<=c) or (a<=b and a>=c):\n",
    "    print(f\"{a} is the median\")\n",
    "elif (b>=a and b<=c) or (b<=a and b>=c):\n",
    "    print(f\"{b} is median\")\n",
    "else:\n",
    "    print(f\"{c} is the median\")"
   ]
  },
  {
   "cell_type": "code",
   "execution_count": 2,
   "id": "e23f2a3b-b390-4602-83dc-8f2393b11234",
   "metadata": {},
   "outputs": [
    {
     "name": "stdin",
     "output_type": "stream",
     "text": [
      "Enter the No.: 4\n"
     ]
    },
    {
     "name": "stdout",
     "output_type": "stream",
     "text": [
      "4 8 12 16 20 24 28 32 36 40 "
     ]
    }
   ],
   "source": [
    "a=int(input(\"Enter the No.:\"))\n",
    "for i in range(1,11):\n",
    "    b=a*i\n",
    "    print(b,end=\" \")"
   ]
  },
  {
   "cell_type": "code",
   "execution_count": 5,
   "id": "e8a4eb95-9136-46aa-b14c-aacb87043984",
   "metadata": {},
   "outputs": [
    {
     "name": "stdout",
     "output_type": "stream",
     "text": [
      "Year 1: 105000.0\n",
      "Year 2: 110250.0\n",
      "Year 3: 115762.5\n",
      "Year 4: 121550.63\n",
      "Year 5: 127628.16\n",
      "Year 6: 134009.56\n",
      "Year 7: 140710.04\n",
      "Year 8: 147745.54\n",
      "Year 9: 155132.82\n",
      "Year 10: 162889.46\n"
     ]
    }
   ],
   "source": [
    "a=100000\n",
    "b=0.05\n",
    "for i in range(1,11):\n",
    "    c=a*(1+b)**i\n",
    "    print(f\"Year {i}: {round(c,2)}\")"
   ]
  },
  {
   "cell_type": "code",
   "execution_count": 6,
   "id": "cd98de28-653f-4f44-86bf-8c847132db62",
   "metadata": {},
   "outputs": [
    {
     "name": "stdin",
     "output_type": "stream",
     "text": [
      "Enter the Word: racecar\n"
     ]
    },
    {
     "name": "stdout",
     "output_type": "stream",
     "text": [
      "racecar is a palindrome word\n"
     ]
    }
   ],
   "source": [
    "a=(input(\"Enter the Word:\"))\n",
    "b=\"\"\n",
    "for i in a:\n",
    "    b=i+b\n",
    "if a==b:\n",
    "    print(f\"{a} is a palindrome word\")\n",
    "else:\n",
    "    print(f\"{a} is not a palindrome word\")"
   ]
  },
  {
   "cell_type": "code",
   "execution_count": null,
   "id": "e6c625fb-aeef-458d-8125-146df6fc7c7a",
   "metadata": {},
   "outputs": [],
   "source": []
  }
 ],
 "metadata": {
  "kernelspec": {
   "display_name": "Python 3 (ipykernel)",
   "language": "python",
   "name": "python3"
  },
  "language_info": {
   "codemirror_mode": {
    "name": "ipython",
    "version": 3
   },
   "file_extension": ".py",
   "mimetype": "text/x-python",
   "name": "python",
   "nbconvert_exporter": "python",
   "pygments_lexer": "ipython3",
   "version": "3.11.4"
  }
 },
 "nbformat": 4,
 "nbformat_minor": 5
}
